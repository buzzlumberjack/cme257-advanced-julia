{
 "cells": [
  {
   "cell_type": "code",
   "execution_count": null,
   "metadata": {
    "collapsed": true
   },
   "outputs": [],
   "source": [
    "# Using Julia 0.6.2"
   ]
  },
  {
   "cell_type": "markdown",
   "metadata": {},
   "source": [
    "We will look at the IterativeSolvers package that we have seen in class.\n",
    "I want to see how it works and whether it is already useful for research\n",
    "\n",
    "I will focus on testing GMRES"
   ]
  },
  {
   "cell_type": "code",
   "execution_count": 13,
   "metadata": {},
   "outputs": [
    {
     "name": "stderr",
     "output_type": "stream",
     "text": [
      "\u001b[1m\u001b[36mINFO: \u001b[39m\u001b[22m\u001b[36mPackage IterativeSolvers is already installed\n",
      "\u001b[39m\u001b[1m\u001b[36mINFO: \u001b[39m\u001b[22m\u001b[36mUpdating METADATA...\n",
      "\u001b[39m"
     ]
    },
    {
     "ename": "LoadError",
     "evalue": "\u001b[91mGitError(Code:ENOTFOUND, Class:Reference, Revspec 'HEAD' not found.)\u001b[39m",
     "output_type": "error",
     "traceback": [
      "\u001b[91mGitError(Code:ENOTFOUND, Class:Reference, Revspec 'HEAD' not found.)\u001b[39m",
      "",
      "Stacktrace:",
      " [1] \u001b[1mmacro expansion\u001b[22m\u001b[22m at \u001b[1m./libgit2/error.jl:99\u001b[22m\u001b[22m [inlined]",
      " [2] \u001b[1mBase.LibGit2.GitTree\u001b[22m\u001b[22m\u001b[1m(\u001b[22m\u001b[22m::Base.LibGit2.GitRepo, ::String\u001b[1m)\u001b[22m\u001b[22m at \u001b[1m./libgit2/repository.jl:116\u001b[22m\u001b[22m",
      " [3] \u001b[1m#isdiff#76\u001b[22m\u001b[22m\u001b[1m(\u001b[22m\u001b[22m::Bool, ::Function, ::Base.LibGit2.GitRepo, ::String, ::String\u001b[1m)\u001b[22m\u001b[22m at \u001b[1m./libgit2/libgit2.jl:147\u001b[22m\u001b[22m",
      " [4] \u001b[1m(::Base.LibGit2.#kw##isdiff)\u001b[22m\u001b[22m\u001b[1m(\u001b[22m\u001b[22m::Array{Any,1}, ::Base.LibGit2.#isdiff, ::Base.LibGit2.GitRepo, ::String, ::String\u001b[1m)\u001b[22m\u001b[22m at \u001b[1m./<missing>:0\u001b[22m\u001b[22m",
      " [5] \u001b[1m(::Base.Pkg.Read.##5#6{String})\u001b[22m\u001b[22m\u001b[1m(\u001b[22m\u001b[22m::Base.LibGit2.GitRepo\u001b[1m)\u001b[22m\u001b[22m at \u001b[1m./pkg/read.jl:184\u001b[22m\u001b[22m",
      " [6] \u001b[1mwith\u001b[22m\u001b[22m\u001b[1m(\u001b[22m\u001b[22m::Base.Pkg.Read.##5#6{String}, ::Base.LibGit2.GitRepo\u001b[1m)\u001b[22m\u001b[22m at \u001b[1m./libgit2/types.jl:608\u001b[22m\u001b[22m",
      " [7] \u001b[1mrequires_path\u001b[22m\u001b[22m\u001b[1m(\u001b[22m\u001b[22m::String, ::Dict{VersionNumber,Base.Pkg.Types.Available}\u001b[1m)\u001b[22m\u001b[22m at \u001b[1m./pkg/read.jl:183\u001b[22m\u001b[22m",
      " [8] \u001b[1mfixed\u001b[22m\u001b[22m\u001b[1m(\u001b[22m\u001b[22m::Dict{String,Dict{VersionNumber,Base.Pkg.Types.Available}}, ::Dict{String,Tuple{VersionNumber,Bool}}, ::Set{String}, ::VersionNumber\u001b[1m)\u001b[22m\u001b[22m at \u001b[1m./pkg/read.jl:229\u001b[22m\u001b[22m",
      " [9] \u001b[1mupdate\u001b[22m\u001b[22m\u001b[1m(\u001b[22m\u001b[22m::String, ::Set{String}\u001b[1m)\u001b[22m\u001b[22m at \u001b[1m./pkg/entry.jl:412\u001b[22m\u001b[22m",
      " [10] \u001b[1m(::Base.Pkg.Dir.##4#7{Array{Any,1},Base.Pkg.Entry.#update,Tuple{String,Set{String}}})\u001b[22m\u001b[22m\u001b[1m(\u001b[22m\u001b[22m\u001b[1m)\u001b[22m\u001b[22m at \u001b[1m./pkg/dir.jl:36\u001b[22m\u001b[22m",
      " [11] \u001b[1mcd\u001b[22m\u001b[22m\u001b[1m(\u001b[22m\u001b[22m::Base.Pkg.Dir.##4#7{Array{Any,1},Base.Pkg.Entry.#update,Tuple{String,Set{String}}}, ::String\u001b[1m)\u001b[22m\u001b[22m at \u001b[1m./file.jl:70\u001b[22m\u001b[22m",
      " [12] \u001b[1m#cd#1\u001b[22m\u001b[22m\u001b[1m(\u001b[22m\u001b[22m::Array{Any,1}, ::Function, ::Function, ::String, ::Vararg{Any,N} where N\u001b[1m)\u001b[22m\u001b[22m at \u001b[1m./pkg/dir.jl:36\u001b[22m\u001b[22m",
      " [13] \u001b[1mupdate\u001b[22m\u001b[22m\u001b[1m(\u001b[22m\u001b[22m::String, ::Vararg{String,N} where N\u001b[1m)\u001b[22m\u001b[22m at \u001b[1m./pkg/pkg.jl:228\u001b[22m\u001b[22m",
      " [14] \u001b[1minclude_string\u001b[22m\u001b[22m\u001b[1m(\u001b[22m\u001b[22m::String, ::String\u001b[1m)\u001b[22m\u001b[22m at \u001b[1m./loading.jl:522\u001b[22m\u001b[22m"
     ]
    }
   ],
   "source": [
    "Pkg.add(\"IterativeSolvers\")\n",
    "Pkg.update(\"IterativeSolvers\")"
   ]
  },
  {
   "cell_type": "code",
   "execution_count": 15,
   "metadata": {
    "collapsed": true
   },
   "outputs": [],
   "source": [
    "using IterativeSolvers"
   ]
  },
  {
   "cell_type": "markdown",
   "metadata": {},
   "source": [
    "Let's create some matrix to test on"
   ]
  },
  {
   "cell_type": "code",
   "execution_count": 16,
   "metadata": {},
   "outputs": [
    {
     "data": {
      "text/plain": [
       "getfun (generic function with 1 method)"
      ]
     },
     "execution_count": 16,
     "metadata": {},
     "output_type": "execute_result"
    }
   ],
   "source": [
    "# simple function to get a matrix for poisson equation discretization with constant coefficient\n",
    "# this function was tested for 0 based indexing and then modified so I don't vouch for it\n",
    "# but since I want to test GMRES it doesn't matter that much\n",
    "function getfun(n)\n",
    "    A = spzeros(n * n,n * n)\n",
    "    for i in 1:(n*n)\n",
    "        A[i,i] = 4\n",
    "        # set the corners\n",
    "        if i == 1\n",
    "            A[i,n + 1] = -1\n",
    "            A[i,2] = -1\n",
    "        elseif i == n\n",
    "            A[i,n-1] = -1\n",
    "            A[i,2*n] = -1\n",
    "        elseif i == (n-1) * n + 1\n",
    "            A[i, (n-2)*n + 1] = -1\n",
    "            A[i, (n-1)*n + 2] = -1\n",
    "        elseif i == n * n\n",
    "            A[i, n * n - 1] = -1\n",
    "            A[i, (n-1) * n] = -1\n",
    "        #set the upper and lower borders\n",
    "        elseif i > 1 && i < n\n",
    "            A[i,i-1] = -1\n",
    "            A[i,i+1] = -1\n",
    "            A[i,i+n] = -1\n",
    "        elseif i > (n-1) * n + 1 && i < n * n\n",
    "            A[i,i-1] = - 1\n",
    "            A[i,i+1] = - 1\n",
    "            A[i,i-n] = -1\n",
    "        # set the left and right borders\n",
    "        elseif i % n == 1\n",
    "            A[i, i - n] = -1\n",
    "            A[i, i + n] = -1\n",
    "            A[i, i + 1] = -1\n",
    "        elseif i % n == 0\n",
    "            A[i,i-n] = -1\n",
    "            A[i,i+n] = -1\n",
    "            A[i,i-1] = -1\n",
    "        else\n",
    "            A[i,i+1]= -1\n",
    "            A[i,i-1]= -1\n",
    "            A[i,i-n]= -1\n",
    "            A[i,i+n]= -1\n",
    "        end\n",
    "    end\n",
    "    return A\n",
    "end"
   ]
  },
  {
   "cell_type": "code",
   "execution_count": 17,
   "metadata": {},
   "outputs": [
    {
     "data": {
      "text/plain": [
       "10000×10000 SparseMatrixCSC{Float64,Int64} with 49600 stored entries:\n",
       "  [1    ,     1]  =  4.0\n",
       "  [2    ,     1]  =  -1.0\n",
       "  [101  ,     1]  =  -1.0\n",
       "  [1    ,     2]  =  -1.0\n",
       "  [2    ,     2]  =  4.0\n",
       "  [3    ,     2]  =  -1.0\n",
       "  [102  ,     2]  =  -1.0\n",
       "  [2    ,     3]  =  -1.0\n",
       "  [3    ,     3]  =  4.0\n",
       "  [4    ,     3]  =  -1.0\n",
       "  ⋮\n",
       "  [9898 ,  9998]  =  -1.0\n",
       "  [9997 ,  9998]  =  -1.0\n",
       "  [9998 ,  9998]  =  4.0\n",
       "  [9999 ,  9998]  =  -1.0\n",
       "  [9899 ,  9999]  =  -1.0\n",
       "  [9998 ,  9999]  =  -1.0\n",
       "  [9999 ,  9999]  =  4.0\n",
       "  [10000,  9999]  =  -1.0\n",
       "  [9900 , 10000]  =  -1.0\n",
       "  [9999 , 10000]  =  -1.0\n",
       "  [10000, 10000]  =  4.0"
      ]
     },
     "execution_count": 17,
     "metadata": {},
     "output_type": "execute_result"
    }
   ],
   "source": [
    "n = 100\n",
    "A = getfun(n)\n",
    "# the matrix dimension is 10,000 x 10,000 (sparse), not large but should be enough to test functionalities"
   ]
  },
  {
   "cell_type": "markdown",
   "metadata": {},
   "source": [
    "Now we will test GMRES on the preconditioned system"
   ]
  },
  {
   "cell_type": "code",
   "execution_count": 18,
   "metadata": {},
   "outputs": [
    {
     "data": {
      "text/plain": [
       "10000-element Array{Float64,1}:\n",
       " 2.0\n",
       " 1.0\n",
       " 1.0\n",
       " 1.0\n",
       " 1.0\n",
       " 1.0\n",
       " 1.0\n",
       " 1.0\n",
       " 1.0\n",
       " 1.0\n",
       " 1.0\n",
       " 1.0\n",
       " 1.0\n",
       " ⋮  \n",
       " 1.0\n",
       " 1.0\n",
       " 1.0\n",
       " 1.0\n",
       " 1.0\n",
       " 1.0\n",
       " 1.0\n",
       " 1.0\n",
       " 1.0\n",
       " 1.0\n",
       " 1.0\n",
       " 2.0"
      ]
     },
     "execution_count": 18,
     "metadata": {},
     "output_type": "execute_result"
    }
   ],
   "source": [
    "# constant solution for poisson equation is difficult for GMRES on large systems\n",
    "x = ones(n * n)\n",
    "b = A * x"
   ]
  },
  {
   "cell_type": "markdown",
   "metadata": {},
   "source": [
    "We will use gmres function.\n",
    "\n",
    "Docs say that the function returns the whole history, we'll see how useful it is (scipy returns residual at each step during execution, if promted).\n",
    "\n",
    "It is not clear from documentation whether one can turn off restarting but one can set it to a large number of iterations.\n",
    "\n",
    "The package works with sparse matrices."
   ]
  },
  {
   "cell_type": "markdown",
   "metadata": {},
   "source": [
    "First, we will see if maxiter works"
   ]
  },
  {
   "cell_type": "code",
   "execution_count": 19,
   "metadata": {},
   "outputs": [
    {
     "name": "stdout",
     "output_type": "stream",
     "text": [
      "norm(xg - x) / norm(x) = 0.9542466502550678\n",
      "hist = Not converged after 5 iterations.\n"
     ]
    },
    {
     "data": {
      "text/plain": [
       "Not converged after 5 iterations."
      ]
     },
     "execution_count": 19,
     "metadata": {},
     "output_type": "execute_result"
    }
   ],
   "source": [
    "# we will assume the initial x is zero\n",
    "xg, hist = gmres(A, b, tol = 1e-6, maxiter = 5, log = true)\n",
    "@show norm(xg - x)/norm(x)\n",
    "@show hist"
   ]
  },
  {
   "cell_type": "code",
   "execution_count": 20,
   "metadata": {},
   "outputs": [
    {
     "name": "stdout",
     "output_type": "stream",
     "text": [
      "norm(xg - x) / norm(x) = 0.8802482874662134\n",
      "hist = Not converged after 15 iterations.\n"
     ]
    },
    {
     "data": {
      "text/plain": [
       "Not converged after 15 iterations."
      ]
     },
     "execution_count": 20,
     "metadata": {},
     "output_type": "execute_result"
    }
   ],
   "source": [
    "# we will assume the initial x is zero\n",
    "xg, hist = gmres(A, b, tol = 1e-6, maxiter = 15, log = true)\n",
    "@show norm(xg - x)/norm(x)\n",
    "@show hist"
   ]
  },
  {
   "cell_type": "code",
   "execution_count": 21,
   "metadata": {},
   "outputs": [
    {
     "name": "stdout",
     "output_type": "stream",
     "text": [
      "norm(xg - x) / norm(x) = 0.65943304877824\n",
      "hist = Not converged after 50 iterations.\n"
     ]
    },
    {
     "data": {
      "text/plain": [
       "Not converged after 50 iterations."
      ]
     },
     "execution_count": 21,
     "metadata": {},
     "output_type": "execute_result"
    }
   ],
   "source": [
    "# we will assume the initial x is zero\n",
    "xg, hist = gmres(A, b, tol = 1e-6, maxiter = 50, log = true)\n",
    "@show norm(xg - x)/norm(x)\n",
    "@show hist"
   ]
  },
  {
   "cell_type": "code",
   "execution_count": 22,
   "metadata": {},
   "outputs": [
    {
     "name": "stdout",
     "output_type": "stream",
     "text": [
      "norm(xg - x) / norm(x) = 0.2647130235799437\n",
      "hist = Not converged after 150 iterations.\n"
     ]
    },
    {
     "data": {
      "text/plain": [
       "Not converged after 150 iterations."
      ]
     },
     "execution_count": 22,
     "metadata": {},
     "output_type": "execute_result"
    }
   ],
   "source": [
    "# we will assume the initial x is zero\n",
    "xg, hist = gmres(A, b, tol = 1e-6, maxiter = 150, log = true)\n",
    "@show norm(xg - x)/norm(x)\n",
    "@show hist"
   ]
  },
  {
   "cell_type": "markdown",
   "metadata": {},
   "source": [
    "maxiter appears to be working."
   ]
  },
  {
   "cell_type": "markdown",
   "metadata": {},
   "source": [
    "History is nice. You can get the history of residuals, number of matrix-vectors products, etc.\n",
    "(although this is not well-documented yet, or not linked to gmres documentation, \n",
    "    you have to look into the implementation to see what's there)"
   ]
  },
  {
   "cell_type": "code",
   "execution_count": 23,
   "metadata": {},
   "outputs": [
    {
     "name": "stdout",
     "output_type": "stream",
     "text": [
      "hist.mvps = 159\n",
      "hist.iters = 150\n",
      "hist.data[:resnorm] = [9.10055, 5.68281, 4.33595, 3.32493, 2.71659, 2.24876, 1.91444, 1.65071, 1.4446, 1.27803, 1.14069, 1.02734, 0.930534, 0.849176, 0.777976, 0.717204, 0.663057, 0.616225, 0.573925, 0.536921, 0.518979, 0.500536, 0.481693, 0.462529, 0.443174, 0.423715, 0.404289, 0.385016, 0.366005, 0.347454, 0.32938, 0.312131, 0.295542, 0.280207, 0.265645, 0.252834, 0.240776, 0.231014, 0.221776, 0.21536, 0.212199, 0.20904, 0.206103, 0.202032, 0.196744, 0.191712, 0.186261, 0.181448, 0.176477, 0.171805, 0.167212, 0.162823, 0.158687, 0.154755, 0.151091, 0.147628, 0.144397, 0.141331, 0.138457, 0.135684, 0.133654, 0.131838, 0.130031, 0.12804, 0.125844, 0.123685, 0.121577, 0.11972, 0.117944, 0.116335, 0.114881, 0.113494, 0.112195, 0.110714, 0.109321, 0.107953, 0.106896, 0.106074, 0.105188, 0.104329, 0.103612, 0.102906, 0.10225, 0.101372, 0.100236, 0.0991423, 0.0980326, 0.0971149, 0.096176, 0.0952451, 0.0942719, 0.0932714, 0.092245, 0.0911198, 0.0899871, 0.0888816, 0.0878559, 0.0868529, 0.0858829, 0.0848701, 0.0839743, 0.0831447, 0.0822902, 0.0813922, 0.0804289, 0.079483, 0.078579, 0.0777787, 0.0770165, 0.0762961, 0.0756287, 0.0749795, 0.0743467, 0.0736073, 0.0728914, 0.0721647, 0.0715678, 0.0710746, 0.0705549, 0.0700595, 0.0696126, 0.0691551, 0.0687138, 0.0681535, 0.0674644, 0.0668094, 0.0661469, 0.0655814, 0.0650094, 0.0644354, 0.0638355, 0.0632215, 0.0625828, 0.0619022, 0.0612176, 0.0605311, 0.0598563, 0.0591702, 0.0585354, 0.0579012, 0.0573171, 0.0567495, 0.0561388, 0.0555178, 0.0548819, 0.0542659, 0.053669, 0.0531154, 0.0525915, 0.0520926]\n"
     ]
    },
    {
     "data": {
      "text/plain": [
       "150-element Array{Float64,1}:\n",
       " 9.10055  \n",
       " 5.68281  \n",
       " 4.33595  \n",
       " 3.32493  \n",
       " 2.71659  \n",
       " 2.24876  \n",
       " 1.91444  \n",
       " 1.65071  \n",
       " 1.4446   \n",
       " 1.27803  \n",
       " 1.14069  \n",
       " 1.02734  \n",
       " 0.930534 \n",
       " ⋮        \n",
       " 0.0585354\n",
       " 0.0579012\n",
       " 0.0573171\n",
       " 0.0567495\n",
       " 0.0561388\n",
       " 0.0555178\n",
       " 0.0548819\n",
       " 0.0542659\n",
       " 0.053669 \n",
       " 0.0531154\n",
       " 0.0525915\n",
       " 0.0520926"
      ]
     },
     "execution_count": 23,
     "metadata": {},
     "output_type": "execute_result"
    }
   ],
   "source": [
    "# number of matrix-vector products\n",
    "@show hist.mvps\n",
    "# number of iterations\n",
    "@show hist.iters\n",
    "# data about residuals\n",
    "@show hist.data[:resnorm]"
   ]
  },
  {
   "cell_type": "markdown",
   "metadata": {},
   "source": [
    "Now we will try to use ILU as a preconditioner. The package itself doesn't have it, but recommends ILU from the following package. We'll try to make it work."
   ]
  },
  {
   "cell_type": "code",
   "execution_count": 24,
   "metadata": {},
   "outputs": [
    {
     "name": "stderr",
     "output_type": "stream",
     "text": [
      "\u001b[1m\u001b[36mINFO: \u001b[39m\u001b[22m\u001b[36mCloning ILU from git@github.com:haampie/ILU.jl.git\n",
      "\u001b[39m"
     ]
    },
    {
     "ename": "LoadError",
     "evalue": "\u001b[91mILU already exists\u001b[39m",
     "output_type": "error",
     "traceback": [
      "\u001b[91mILU already exists\u001b[39m",
      "",
      "Stacktrace:",
      " [1] \u001b[1mclone\u001b[22m\u001b[22m\u001b[1m(\u001b[22m\u001b[22m::String, ::SubString{String}\u001b[1m)\u001b[22m\u001b[22m at \u001b[1m./pkg/entry.jl:193\u001b[22m\u001b[22m",
      " [2] \u001b[1m(::Base.Pkg.Dir.##4#7{Array{Any,1},Base.Pkg.Entry.#clone,Tuple{String}})\u001b[22m\u001b[22m\u001b[1m(\u001b[22m\u001b[22m\u001b[1m)\u001b[22m\u001b[22m at \u001b[1m./pkg/dir.jl:36\u001b[22m\u001b[22m",
      " [3] \u001b[1mcd\u001b[22m\u001b[22m\u001b[1m(\u001b[22m\u001b[22m::Base.Pkg.Dir.##4#7{Array{Any,1},Base.Pkg.Entry.#clone,Tuple{String}}, ::String\u001b[1m)\u001b[22m\u001b[22m at \u001b[1m./file.jl:70\u001b[22m\u001b[22m",
      " [4] \u001b[1m#cd#1\u001b[22m\u001b[22m\u001b[1m(\u001b[22m\u001b[22m::Array{Any,1}, ::Function, ::Function, ::String, ::Vararg{String,N} where N\u001b[1m)\u001b[22m\u001b[22m at \u001b[1m./pkg/dir.jl:36\u001b[22m\u001b[22m",
      " [5] \u001b[1mclone\u001b[22m\u001b[22m\u001b[1m(\u001b[22m\u001b[22m::String\u001b[1m)\u001b[22m\u001b[22m at \u001b[1m./pkg/pkg.jl:169\u001b[22m\u001b[22m",
      " [6] \u001b[1minclude_string\u001b[22m\u001b[22m\u001b[1m(\u001b[22m\u001b[22m::String, ::String\u001b[1m)\u001b[22m\u001b[22m at \u001b[1m./loading.jl:522\u001b[22m\u001b[22m"
     ]
    }
   ],
   "source": [
    "Pkg.clone(\"git@github.com:haampie/ILU.jl.git\")"
   ]
  },
  {
   "cell_type": "code",
   "execution_count": 25,
   "metadata": {},
   "outputs": [
    {
     "name": "stderr",
     "output_type": "stream",
     "text": [
      "\u001b[1m\u001b[36mINFO: \u001b[39m\u001b[22m\u001b[36mPackage ILU is already installed\n",
      "\u001b[39m"
     ]
    }
   ],
   "source": [
    "Pkg.add(\"ILU\")"
   ]
  },
  {
   "cell_type": "code",
   "execution_count": 26,
   "metadata": {},
   "outputs": [
    {
     "ename": "LoadError",
     "evalue": "\u001b[91mArgumentError: Module ILU not found in current path.\nRun `Pkg.add(\"ILU\")` to install the ILU package.\u001b[39m",
     "output_type": "error",
     "traceback": [
      "\u001b[91mArgumentError: Module ILU not found in current path.\nRun `Pkg.add(\"ILU\")` to install the ILU package.\u001b[39m",
      "",
      "Stacktrace:",
      " [1] \u001b[1m_require\u001b[22m\u001b[22m\u001b[1m(\u001b[22m\u001b[22m::Symbol\u001b[1m)\u001b[22m\u001b[22m at \u001b[1m./loading.jl:435\u001b[22m\u001b[22m",
      " [2] \u001b[1mrequire\u001b[22m\u001b[22m\u001b[1m(\u001b[22m\u001b[22m::Symbol\u001b[1m)\u001b[22m\u001b[22m at \u001b[1m./loading.jl:405\u001b[22m\u001b[22m",
      " [3] \u001b[1minclude_string\u001b[22m\u001b[22m\u001b[1m(\u001b[22m\u001b[22m::String, ::String\u001b[1m)\u001b[22m\u001b[22m at \u001b[1m./loading.jl:522\u001b[22m\u001b[22m"
     ]
    }
   ],
   "source": [
    "using ILU"
   ]
  },
  {
   "cell_type": "markdown",
   "metadata": {},
   "source": [
    "I have installed the package ILU:\n",
    "\n",
    "INFO: Package ILU is already installed\n",
    "\n",
    "But I get the error:\n",
    "\n",
    "ArgumentError: Module ILU not found in current path.\n",
    "Run `Pkg.add(\"ILU\")` to install the ILU package."
   ]
  },
  {
   "cell_type": "markdown",
   "metadata": {},
   "source": [
    "Not sure how to fix it. Anyway, from the docs, it seems that it should be easy to write one's own preconditioner."
   ]
  }
 ],
 "metadata": {
  "kernelspec": {
   "display_name": "Julia 0.6.2",
   "language": "julia",
   "name": "julia-0.6"
  },
  "language_info": {
   "file_extension": ".jl",
   "mimetype": "application/julia",
   "name": "julia",
   "version": "0.6.2"
  }
 },
 "nbformat": 4,
 "nbformat_minor": 2
}
